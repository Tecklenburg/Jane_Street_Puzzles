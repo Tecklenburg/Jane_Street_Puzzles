{
 "cells": [
  {
   "cell_type": "markdown",
   "metadata": {},
   "source": [
    "# Jane Stree July 2022\n",
    "Andy the ant has spent most of his days living on a strange land consisting of white hexagons that are surrounded by alternating black pentagons and white hexagons (three of each), and black pentagons surrounded by five white hexagons. To us this land is familiar as the classic soccer ball we see above on the left. Due to Andy’s tiny size and terrible eyesight, he doesn’t notice the curvature of the land and avoids the black pentagons because he suspects they may be bottomless pits.\n",
    "\n",
    "Every morning he wakes up on a white hexagon, leaves some pheromones to mark it has his special home space, and starts his random morning stroll. Every step on this stroll takes him to one of the three neighboring white hexagons with equal probability. He ends his stroll as soon has he first returns to his home space. As an example, on exactly 1/3 of mornings Andy’s stroll is 2 steps long, as he randomly visits one of the three neighbors, and then has a 1/3 probability of returning immediately to the home hexagon.\n",
    "\n",
    "This morning, his soccer ball bounced through a kitchen with an infinite (at least practically speaking…) regular hexagonal floor tiling consisting of black and white hexagons, a small part of which is shown above on the right. In this tiling every white hexagon is surrounded by alternating black and white hexagons, and black hexagons are surrounded by six white hexagons. Andy fell off the ball and woke up on a white hexagon. He didn’t notice any change in his surroundings, and goes about his normal morning routine.\n",
    "\n",
    "Let p be the probability that his morning stroll on this new land is strictly more steps than the expected number of steps his strolls on the soccer ball took. Find p, rounded to seven significant digits."
   ]
  },
  {
   "cell_type": "code",
   "execution_count": 2,
   "metadata": {},
   "outputs": [],
   "source": [
    "import numpy as np\n",
    "import math\n",
    "import random"
   ]
  },
  {
   "cell_type": "markdown",
   "metadata": {},
   "source": [
    "## 1 Solving the expected Football stroll\n",
    "Using the 2D unfold pattern of a football to define the distances to the starting point\n",
    "![Distance to Start](img/Football_Walk.png)\n",
    "\n",
    "Equations for the hitting times:\n",
    "1. g(1) = 1 + 2/3 g(2)\n",
    "1. g(2) = 1 + 1/3 g(1) + 1/3 g(2) + 1/3 g(3)\n",
    "1. g(3) = 1 + 1/3 g(2) + 1/3 g(3) + 1/3 g(4)\n",
    "1. g(4) = 1 + 2/3 g(3) + 1/3 g(5)\n",
    "1. g(5) = 1 + g(4)\n",
    "\n",
    "Solving the equations for g(1), to find the number of steps it takes to arrive at the starting point(0), we get 19 fields.\n",
    "\n",
    "Because we start at home(0) and not at one of the neighbouring fields, we have to add 1, so the average morning stroll takes 20 fields.\n",
    "\n",
    "### Verify with simulation"
   ]
  },
  {
   "cell_type": "code",
   "execution_count": 20,
   "metadata": {},
   "outputs": [
    {
     "name": "stdout",
     "output_type": "stream",
     "text": [
      "0.0%  Current Result:0.0\n",
      "10.0%  Current Result:19.856814318568144\n",
      "20.0%  Current Result:19.924803759812008\n",
      "30.0%  Current Result:20.000899970001\n",
      "40.0%  Current Result:20.093147671308216\n",
      "50.0%  Current Result:20.16437671246575\n",
      "60.0%  Current Result:20.19194680088665\n",
      "70.0%  Current Result:20.12064113369809\n",
      "80.0%  Current Result:20.097686278921515\n",
      "90.0%  Current Result:20.0899767780358\n",
      "Result: 20.04044\n"
     ]
    }
   ],
   "source": [
    "trans = [[ 1,  5, 17],      # 0\n",
    "         [ 0,  2, 18],      # 1\n",
    "         [ 1,  3,  4],      # 2\n",
    "         [ 2,  7, 19],      # 3\n",
    "         [ 2,  5,  6],     # 4\n",
    "         [ 0,  4,  9],     # 5\n",
    "         [ 4,  7,  8],     # 6\n",
    "         [ 3,  6, 11],     # 7\n",
    "         [ 6,  9, 10],     # 8\n",
    "         [ 5,  8, 13],     # 9\n",
    "         [ 8, 11, 12],     # 10\n",
    "         [ 7, 10, 15],     # 11\n",
    "         [10, 13, 14],     # 12\n",
    "         [ 9, 12, 17],     # 13\n",
    "         [12, 15, 16],     # 14\n",
    "         [11, 14, 19],     # 15\n",
    "         [14, 17, 18],     # 16\n",
    "         [ 0, 13, 16],     # 17\n",
    "         [ 1, 16, 19],     # 18\n",
    "         [ 3, 15, 18]]     # 19\n",
    "\n",
    "\n",
    "steps = 0\n",
    "n = 100000 \n",
    "for i in range(n):\n",
    "    if(i%10000==0):\n",
    "        print(f'{i*100/n}%  Current Result:{steps/(i+1)}')\n",
    "\n",
    "    position = trans[0][random.randint(0,2)]\n",
    "    steps += 1\n",
    "    while position != 0:\n",
    "        position = trans[position][random.randint(0,2)]\n",
    "        steps += 1\n",
    "        \n",
    "print(f'Result: {steps / n}')"
   ]
  },
  {
   "cell_type": "code",
   "execution_count": 3,
   "metadata": {},
   "outputs": [],
   "source": [
    "exp_football = 20"
   ]
  },
  {
   "cell_type": "markdown",
   "metadata": {},
   "source": [
    "## 2 Simulation of the Floor pattern"
   ]
  },
  {
   "cell_type": "code",
   "execution_count": 4,
   "metadata": {},
   "outputs": [
    {
     "name": "stdout",
     "output_type": "stream",
     "text": [
      "0.0%  Current Result:0.0\n",
      "0.01%  Current Result:0.44598554014459857\n",
      "0.02%  Current Result:0.4482127589362053\n",
      "0.03%  Current Result:0.4472685091049696\n",
      "0.04%  Current Result:0.4469438826402934\n",
      "0.05%  Current Result:0.4473851052297895\n",
      "0.06%  Current Result:0.44716092139846436\n",
      "0.07%  Current Result:0.4470636470519328\n",
      "0.08%  Current Result:0.44746944066319916\n",
      "0.09%  Current Result:0.44776839136845403\n",
      "0.1%  Current Result:0.4479325520674479\n",
      "0.11%  Current Result:0.4479195928003702\n",
      "0.12%  Current Result:0.44793046005794995\n",
      "0.13%  Current Result:0.4478011939990815\n",
      "0.14%  Current Result:0.4477461087527795\n",
      "0.15%  Current Result:0.44764836823442117\n",
      "0.16%  Current Result:0.44757034526853423\n",
      "0.17%  Current Result:0.44773797191884007\n",
      "0.18%  Current Result:0.44760808466217517\n",
      "0.19%  Current Result:0.4476581854430603\n",
      "0.2%  Current Result:0.4475797762101119\n",
      "0.21%  Current Result:0.44766216777992013\n",
      "0.22%  Current Result:0.4477175237647619\n",
      "0.23%  Current Result:0.4476524140641678\n",
      "0.24%  Current Result:0.4476639801400083\n",
      "0.25%  Current Result:0.44768022092791165\n",
      "0.26%  Current Result:0.44773367394858693\n",
      "0.27%  Current Result:0.4477979822970436\n",
      "0.28%  Current Result:0.44779126864597546\n",
      "0.29%  Current Result:0.4478391559175324\n",
      "0.3%  Current Result:0.44787985070671643\n",
      "0.31%  Current Result:0.44784695230743476\n",
      "0.32%  Current Result:0.4477826725679148\n",
      "0.33%  Current Result:0.4477238037200595\n",
      "0.34%  Current Result:0.4476957506777204\n",
      "0.35%  Current Result:0.44783958633154675\n",
      "0.36%  Current Result:0.44789320891855305\n",
      "0.37%  Current Result:0.447859338416395\n",
      "0.38%  Current Result:0.4478767242429673\n",
      "0.39%  Current Result:0.44785244926860274\n",
      "0.4%  Current Result:0.44782263804434047\n",
      "0.41%  Current Result:0.44784062247789697\n",
      "0.42%  Current Result:0.44789132193063763\n",
      "0.43%  Current Result:0.447914546996617\n",
      "0.44%  Current Result:0.4478571709415521\n",
      "0.45%  Current Result:0.447907900464911\n",
      "0.46%  Current Result:0.4478468591637263\n",
      "0.47%  Current Result:0.4479256493775214\n",
      "0.48%  Current Result:0.4478355317009309\n",
      "0.49%  Current Result:0.4478574596209266\n",
      "0.5%  Current Result:0.44788111042377793\n",
      "0.51%  Current Result:0.44793402981685687\n",
      "0.52%  Current Result:0.44793895231943226\n",
      "0.53%  Current Result:0.4479738777407778\n",
      "0.54%  Current Result:0.44793899112240904\n",
      "0.55%  Current Result:0.44793337310302306\n",
      "0.56%  Current Result:0.4479663485774378\n",
      "0.57%  Current Result:0.44799992140352257\n",
      "0.58%  Current Result:0.44794354345800974\n",
      "0.59%  Current Result:0.44800127999978306\n",
      "0.6%  Current Result:0.44799892533351243\n",
      "0.61%  Current Result:0.4480032052453762\n",
      "0.62%  Current Result:0.4480147664492312\n",
      "0.63%  Current Result:0.44804072253321864\n",
      "0.64%  Current Result:0.4480371174942004\n",
      "0.65%  Current Result:0.44806593106677983\n",
      "0.66%  Current Result:0.44807690180653004\n",
      "0.67%  Current Result:0.44803261969662395\n",
      "0.68%  Current Result:0.4480580223444085\n",
      "0.69%  Current Result:0.4480526886880161\n",
      "0.7%  Current Result:0.44804193599400916\n",
      "0.71%  Current Result:0.448028246756585\n",
      "0.72%  Current Result:0.4480256322186622\n",
      "0.73%  Current Result:0.44804993862329606\n",
      "0.74%  Current Result:0.44804966918247713\n",
      "0.75%  Current Result:0.4480226069303191\n",
      "0.76%  Current Result:0.44801533578745584\n",
      "0.77%  Current Result:0.44798942233903605\n",
      "0.78%  Current Result:0.44797481436220327\n",
      "0.79%  Current Result:0.44798690531811325\n",
      "0.8%  Current Result:0.4479620690047414\n",
      "0.81%  Current Result:0.4479519200059358\n",
      "0.82%  Current Result:0.4479737258568627\n",
      "0.83%  Current Result:0.44796211470335967\n",
      "0.84%  Current Result:0.448000899047512\n",
      "0.85%  Current Result:0.44801018258703734\n",
      "0.86%  Current Result:0.44801750604447604\n",
      "0.87%  Current Result:0.4480050059764361\n",
      "0.88%  Current Result:0.44802733545143913\n",
      "0.89%  Current Result:0.44803781482721183\n",
      "0.9%  Current Result:0.4480852835460796\n",
      "0.91%  Current Result:0.4480794013099559\n",
      "0.92%  Current Result:0.44804592956022504\n",
      "0.93%  Current Result:0.4480810270880616\n",
      "0.94%  Current Result:0.448091228926465\n",
      "0.95%  Current Result:0.4480721633608249\n",
      "0.96%  Current Result:0.448065161659879\n",
      "0.97%  Current Result:0.44806407751916727\n",
      "0.98%  Current Result:0.4480792399919143\n",
      "0.99%  Current Result:0.4480823789815779\n",
      "1.0%  Current Result:0.44805305519469446\n",
      "1.01%  Current Result:0.44806292593436375\n",
      "1.02%  Current Result:0.4480349560750043\n",
      "1.03%  Current Result:0.44802393708505467\n",
      "1.04%  Current Result:0.44803889922702894\n",
      "1.05%  Current Result:0.4480413859008204\n",
      "1.06%  Current Result:0.44804307093933293\n",
      "1.07%  Current Result:0.4480382758842733\n",
      "1.08%  Current Result:0.4480739399931537\n",
      "1.09%  Current Result:0.4480788579744167\n",
      "1.1%  Current Result:0.4480987774455657\n",
      "1.11%  Current Result:0.44809239206374846\n",
      "1.12%  Current Result:0.4480837992782322\n",
      "1.13%  Current Result:0.44810668600825787\n",
      "1.14%  Current Result:0.4481323291111992\n",
      "1.15%  Current Result:0.4481197871200185\n",
      "1.16%  Current Result:0.4481222889549751\n",
      "1.17%  Current Result:0.44813252580063884\n",
      "1.18%  Current Result:0.44814504676736894\n",
      "1.19%  Current Result:0.44814256738297753\n",
      "1.2%  Current Result:0.44813812932182256\n",
      "1.21%  Current Result:0.4481326902369677\n",
      "1.22%  Current Result:0.4481378321198498\n",
      "1.23%  Current Result:0.44812443511183453\n",
      "1.24%  Current Result:0.4481372219244176\n",
      "1.25%  Current Result:0.44813292414936606\n",
      "1.26%  Current Result:0.4481229803077\n",
      "1.27%  Current Result:0.44811547652634043\n",
      "1.28%  Current Result:0.448105433741763\n",
      "1.29%  Current Result:0.4481249265019437\n",
      "1.3%  Current Result:0.4481231962982157\n",
      "1.31%  Current Result:0.4481416451800271\n",
      "1.32%  Current Result:0.44815587513970645\n",
      "1.33%  Current Result:0.4481664324686893\n",
      "1.34%  Current Result:0.4481636978982315\n",
      "1.35%  Current Result:0.4481813742087871\n",
      "1.36%  Current Result:0.44817474645773925\n",
      "1.37%  Current Result:0.4481655147324442\n",
      "1.38%  Current Result:0.44815931535077425\n",
      "1.39%  Current Result:0.4481709749517284\n"
     ]
    },
    {
     "ename": "KeyboardInterrupt",
     "evalue": "",
     "output_type": "error",
     "traceback": [
      "\u001b[0;31m---------------------------------------------------------------------------\u001b[0m",
      "\u001b[0;31mKeyboardInterrupt\u001b[0m                         Traceback (most recent call last)",
      "\u001b[1;32m/Users/niklastecklenburg/Desktop/Jane_Street/July_22/Jane_Street_Puzzle_July.ipynb Cell 7'\u001b[0m in \u001b[0;36m<cell line: 8>\u001b[0;34m()\u001b[0m\n\u001b[1;32m     <a href='vscode-notebook-cell:/Users/niklastecklenburg/Desktop/Jane_Street/July_22/Jane_Street_Puzzle_July.ipynb#ch0000006?line=14'>15</a>\u001b[0m steps \u001b[39m+\u001b[39m\u001b[39m=\u001b[39m \u001b[39m1\u001b[39m\n\u001b[1;32m     <a href='vscode-notebook-cell:/Users/niklastecklenburg/Desktop/Jane_Street/July_22/Jane_Street_Puzzle_July.ipynb#ch0000006?line=16'>17</a>\u001b[0m \u001b[39m# walk till return to (0,0) or bigger than expected value of football\u001b[39;00m\n\u001b[0;32m---> <a href='vscode-notebook-cell:/Users/niklastecklenburg/Desktop/Jane_Street/July_22/Jane_Street_Puzzle_July.ipynb#ch0000006?line=17'>18</a>\u001b[0m \u001b[39mwhile\u001b[39;00m steps \u001b[39m<\u001b[39m\u001b[39m=\u001b[39m exp_football \u001b[39mand\u001b[39;00m \u001b[39mnot\u001b[39;00m np\u001b[39m.\u001b[39marray_equal(np\u001b[39m.\u001b[39;49mround(position, decimals\u001b[39m=\u001b[39;49m\u001b[39m12\u001b[39;49m), np\u001b[39m.\u001b[39marray([\u001b[39m0\u001b[39m,\u001b[39m0\u001b[39m])):\n\u001b[1;32m     <a href='vscode-notebook-cell:/Users/niklastecklenburg/Desktop/Jane_Street/July_22/Jane_Street_Puzzle_July.ipynb#ch0000006?line=18'>19</a>\u001b[0m     direction \u001b[39m=\u001b[39m directions[steps\u001b[39m%\u001b[39m\u001b[39m2\u001b[39m][random\u001b[39m.\u001b[39mrandint(\u001b[39m0\u001b[39m,\u001b[39m2\u001b[39m)]\n\u001b[1;32m     <a href='vscode-notebook-cell:/Users/niklastecklenburg/Desktop/Jane_Street/July_22/Jane_Street_Puzzle_July.ipynb#ch0000006?line=19'>20</a>\u001b[0m     position \u001b[39m+\u001b[39m\u001b[39m=\u001b[39m np\u001b[39m.\u001b[39marray([math\u001b[39m.\u001b[39mcos(direction), math\u001b[39m.\u001b[39msin(direction)])\n",
      "File \u001b[0;32m<__array_function__ internals>:177\u001b[0m, in \u001b[0;36mround_\u001b[0;34m(*args, **kwargs)\u001b[0m\n",
      "\u001b[0;31mKeyboardInterrupt\u001b[0m: "
     ]
    }
   ],
   "source": [
    "# Start at (0,0) and move to on of the adjacent white areas, in one of the three directions with alternating angle options\n",
    "directions = [[math.radians(30), math.radians(150), math.radians(270)],\n",
    "              [math.radians(90), math.radians(210), math.radians(330)]]\n",
    "\n",
    "counter_longer_stroll = 0\n",
    "\n",
    "n = 1000000000\n",
    "for i in range(n):\n",
    "    # initial step\n",
    "    if(i%1000000==0):\n",
    "        print(f'{i*100/n}%  Current Result:{counter_longer_stroll/(i+1)}')\n",
    "    steps = 0\n",
    "    direction = directions[steps%2][random.randint(0,2)]\n",
    "    position = np.array([math.cos(direction), math.sin(direction)])\n",
    "    steps += 1\n",
    "\n",
    "    # walk till return to (0,0) or bigger than expected value of football\n",
    "    while steps <= exp_football and not np.array_equal(np.round(position, decimals=12), np.array([0,0])):\n",
    "        direction = directions[steps%2][random.randint(0,2)]\n",
    "        position += np.array([math.cos(direction), math.sin(direction)])\n",
    "        steps += 1\n",
    "    \n",
    "    # if steps > expected stroll length on football, increase counter\n",
    "    if steps > exp_football:\n",
    "        counter_longer_stroll += 1\n",
    "        \n",
    "print(f'Solution: {counter_longer_stroll/n}')"
   ]
  },
  {
   "cell_type": "markdown",
   "metadata": {},
   "source": [
    "Looking back looks like it could have gotten get me to, where I finally ended up, but it takes ages..."
   ]
  },
  {
   "cell_type": "markdown",
   "metadata": {},
   "source": [
    "### Experiment to put into Matrix for optimization"
   ]
  },
  {
   "cell_type": "code",
   "execution_count": 8,
   "metadata": {},
   "outputs": [
    {
     "ename": "KeyboardInterrupt",
     "evalue": "",
     "output_type": "error",
     "traceback": [
      "\u001b[0;31m---------------------------------------------------------------------------\u001b[0m",
      "\u001b[0;31mKeyboardInterrupt\u001b[0m                         Traceback (most recent call last)",
      "\u001b[1;32m/Users/niklastecklenburg/Desktop/Jane_Street/July_22/Jane_Street_Puzzle_July.ipynb Cell 9'\u001b[0m in \u001b[0;36m<cell line: 16>\u001b[0;34m()\u001b[0m\n\u001b[1;32m     <a href='vscode-notebook-cell:/Users/niklastecklenburg/Desktop/Jane_Street/July_22/Jane_Street_Puzzle_July.ipynb#ch0000007?line=22'>23</a>\u001b[0m steps[:,::\u001b[39m2\u001b[39m,:] \u001b[39m=\u001b[39m steps1\n\u001b[1;32m     <a href='vscode-notebook-cell:/Users/niklastecklenburg/Desktop/Jane_Street/July_22/Jane_Street_Puzzle_July.ipynb#ch0000007?line=23'>24</a>\u001b[0m steps[:,\u001b[39m1\u001b[39m::\u001b[39m2\u001b[39m,:] \u001b[39m=\u001b[39m steps2\n\u001b[0;32m---> <a href='vscode-notebook-cell:/Users/niklastecklenburg/Desktop/Jane_Street/July_22/Jane_Street_Puzzle_July.ipynb#ch0000007?line=25'>26</a>\u001b[0m \u001b[39mfor\u001b[39;00m j \u001b[39min\u001b[39;00m \u001b[39mrange\u001b[39;49m(\u001b[39m1\u001b[39;49m,\u001b[39m21\u001b[39;49m):\n\u001b[1;32m     <a href='vscode-notebook-cell:/Users/niklastecklenburg/Desktop/Jane_Street/July_22/Jane_Street_Puzzle_July.ipynb#ch0000007?line=26'>27</a>\u001b[0m     position[:,j,:] \u001b[39m=\u001b[39m position[:,j\u001b[39m-\u001b[39m\u001b[39m1\u001b[39m,:] \u001b[39m+\u001b[39m steps[:,j\u001b[39m-\u001b[39m\u001b[39m1\u001b[39m,:]\n\u001b[1;32m     <a href='vscode-notebook-cell:/Users/niklastecklenburg/Desktop/Jane_Street/July_22/Jane_Street_Puzzle_July.ipynb#ch0000007?line=28'>29</a>\u001b[0m returns \u001b[39m=\u001b[39m np\u001b[39m.\u001b[39msum(np\u001b[39m.\u001b[39msum(np\u001b[39m.\u001b[39mequal(position, \u001b[39m0\u001b[39m)[:,:,\u001b[39m0\u001b[39m] \u001b[39m*\u001b[39m np\u001b[39m.\u001b[39mequal(position, \u001b[39m0\u001b[39m)[:,:,\u001b[39m1\u001b[39m], axis\u001b[39m=\u001b[39m\u001b[39m1\u001b[39m) \u001b[39m>\u001b[39m \u001b[39m1\u001b[39m)\n",
      "\u001b[0;31mKeyboardInterrupt\u001b[0m: "
     ]
    }
   ],
   "source": [
    "steps_1 = np.array([[math.cos(math.radians(30)), math.sin(math.radians(30))],\n",
    "        [math.cos(math.radians(150)), math.sin(math.radians(150))],\n",
    "        [math.cos(math.radians(270)), math.sin(math.radians(270))]])\n",
    "\n",
    "steps_2 = np.array([[math.cos(math.radians(90)), math.sin(math.radians(90))],\n",
    "        [math.cos(math.radians(210)), math.sin(math.radians(210))],\n",
    "        [math.cos(math.radians(330)), math.sin(math.radians(330))]])\n",
    "\n",
    "steps_1 = np.round(steps_1, decimals=12)\n",
    "steps_2 = np.round(steps_2, decimals=12)\n",
    "\n",
    "n = 1000000\n",
    "results = []\n",
    "loops = 100000\n",
    "\n",
    "for i in range(loops):\n",
    "    position = np.zeros((n,21,2))\n",
    "    steps = np.zeros((n,20,2))\n",
    "\n",
    "    steps1 = steps_1[np.random.randint(0,3,(n,10))]\n",
    "    steps2 = steps_2[np.random.randint(0,3,(n,10))]\n",
    "\n",
    "    steps[:,::2,:] = steps1\n",
    "    steps[:,1::2,:] = steps2\n",
    "\n",
    "    for j in range(1,21):\n",
    "        position[:,j,:] = position[:,j-1,:] + steps[:,j-1,:]\n",
    "\n",
    "    returns = np.sum(np.sum(np.equal(position, 0)[:,:,0] * np.equal(position, 0)[:,:,1], axis=1) > 1)\n",
    "    results.append(returns/n)\n",
    "    if(i%10==0):\n",
    "        print(f'Progress:{i*100/loops}% Results:{sum(results)/len(results)}')\n"
   ]
  },
  {
   "cell_type": "markdown",
   "metadata": {},
   "source": [
    "Did not really work out still took quite some time and the values were different from before so, I decided to chase a more analytical approach."
   ]
  },
  {
   "cell_type": "markdown",
   "metadata": {},
   "source": [
    "### Solved floor pattern using transition matrix\n",
    "Set initial state to state after one step [0,1,0,0,...]\n",
    "Multiply transition matrix n-times with this state to receive system state after 20 steps, see which proportion got absorbed by Andys home. Subtract this proportion form 1 to receive the proportion the stroll takes strictly longer than the expected length on the football.\n",
    "\n",
    "My solution: 0.4480326"
   ]
  },
  {
   "cell_type": "markdown",
   "metadata": {},
   "source": []
  }
 ],
 "metadata": {
  "interpreter": {
   "hash": "a84ddb4b3c4bf6824f0a840d7731fb2eb805a18143a0e1b6cd018342e2f7847d"
  },
  "kernelspec": {
   "display_name": "Python 3.10.4 ('AISummit')",
   "language": "python",
   "name": "python3"
  },
  "language_info": {
   "codemirror_mode": {
    "name": "ipython",
    "version": 3
   },
   "file_extension": ".py",
   "mimetype": "text/x-python",
   "name": "python",
   "nbconvert_exporter": "python",
   "pygments_lexer": "ipython3",
   "version": "3.10.4"
  },
  "orig_nbformat": 4
 },
 "nbformat": 4,
 "nbformat_minor": 2
}
